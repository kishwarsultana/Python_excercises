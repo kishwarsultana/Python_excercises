{
 "cells": [
  {
   "cell_type": "code",
   "execution_count": 18,
   "metadata": {
    "ExecuteTime": {
     "end_time": "2021-01-11T14:30:42.117963Z",
     "start_time": "2021-01-11T14:30:42.112749Z"
    }
   },
   "outputs": [],
   "source": [
    "def factorial(x) :                            # factorial(3) exmaple for n = 3\n",
    "    if x == 1:                                # 3 * factorial(2)\n",
    "        return 1                              # 3 * 2 * factorial(1)\n",
    "    else :                                    # 3 * 2 * 1\n",
    "        return(x * factorial(x-1)) \n"
   ]
  },
  {
   "cell_type": "code",
   "execution_count": 29,
   "metadata": {
    "ExecuteTime": {
     "end_time": "2021-01-11T14:43:01.606098Z",
     "start_time": "2021-01-11T14:42:59.426872Z"
    }
   },
   "outputs": [
    {
     "name": "stdout",
     "output_type": "stream",
     "text": [
      "Enter the number : 6\n",
      "The factorial of 6 is 720\n"
     ]
    }
   ],
   "source": [
    "n = int(input('Enter the number : '))\n",
    "print(f\"The factorial of {n} is {factorial(n)}\")"
   ]
  },
  {
   "cell_type": "code",
   "execution_count": null,
   "metadata": {},
   "outputs": [],
   "source": []
  },
  {
   "cell_type": "code",
   "execution_count": 26,
   "metadata": {
    "ExecuteTime": {
     "end_time": "2021-01-11T14:42:07.943884Z",
     "start_time": "2021-01-11T14:42:07.938885Z"
    }
   },
   "outputs": [],
   "source": [
    "def rec_fibonaci(n) :\n",
    "    if n<= 1 :\n",
    "        return n\n",
    "    else :\n",
    "        return(rec_fibonaci(n-2) + rec_fibonaci(n-1))\n"
   ]
  },
  {
   "cell_type": "code",
   "execution_count": 28,
   "metadata": {
    "ExecuteTime": {
     "end_time": "2021-01-11T14:42:17.540418Z",
     "start_time": "2021-01-11T14:42:15.796163Z"
    },
    "scrolled": true
   },
   "outputs": [
    {
     "name": "stdout",
     "output_type": "stream",
     "text": [
      "Enter number7\n",
      "0\n",
      "1\n",
      "1\n",
      "2\n",
      "3\n",
      "5\n",
      "8\n"
     ]
    }
   ],
   "source": [
    "num = int(input('Enter number of terms : '))\n",
    "\n",
    "if num <= 0 :\n",
    "    print(\"Inavlid input,enter a positive number\")\n",
    "else :\n",
    "    for i in range(num) :\n",
    "        print(rec_fibonaci(i))"
   ]
  },
  {
   "cell_type": "code",
   "execution_count": null,
   "metadata": {},
   "outputs": [],
   "source": []
  }
 ],
 "metadata": {
  "hide_input": false,
  "kernelspec": {
   "display_name": "el-dorado",
   "language": "python",
   "name": "el-dorado"
  },
  "language_info": {
   "codemirror_mode": {
    "name": "ipython",
    "version": 3
   },
   "file_extension": ".py",
   "mimetype": "text/x-python",
   "name": "python",
   "nbconvert_exporter": "python",
   "pygments_lexer": "ipython3",
   "version": "3.8.5"
  },
  "toc": {
   "base_numbering": 1,
   "nav_menu": {},
   "number_sections": true,
   "sideBar": true,
   "skip_h1_title": false,
   "title_cell": "Table of Contents",
   "title_sidebar": "Contents",
   "toc_cell": false,
   "toc_position": {},
   "toc_section_display": true,
   "toc_window_display": false
  },
  "varInspector": {
   "cols": {
    "lenName": 16,
    "lenType": 16,
    "lenVar": 40
   },
   "kernels_config": {
    "python": {
     "delete_cmd_postfix": "",
     "delete_cmd_prefix": "del ",
     "library": "var_list.py",
     "varRefreshCmd": "print(var_dic_list())"
    },
    "r": {
     "delete_cmd_postfix": ") ",
     "delete_cmd_prefix": "rm(",
     "library": "var_list.r",
     "varRefreshCmd": "cat(var_dic_list()) "
    }
   },
   "types_to_exclude": [
    "module",
    "function",
    "builtin_function_or_method",
    "instance",
    "_Feature"
   ],
   "window_display": false
  }
 },
 "nbformat": 4,
 "nbformat_minor": 4
}
