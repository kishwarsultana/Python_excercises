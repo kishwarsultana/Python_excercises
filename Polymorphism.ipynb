{
 "cells": [
  {
   "cell_type": "code",
   "execution_count": 25,
   "metadata": {
    "ExecuteTime": {
     "end_time": "2021-01-22T14:07:38.212204Z",
     "start_time": "2021-01-22T14:07:38.201663Z"
    }
   },
   "outputs": [
    {
     "name": "stdout",
     "output_type": "stream",
     "text": [
      "Area of square:  25\n",
      "Area of triangle:  10.0\n"
     ]
    }
   ],
   "source": [
    "class Square:\n",
    "    side = 5     \n",
    "    def calculate_area_sq(self):\n",
    "        return self.side * self.side\n",
    "\n",
    "class Triangle:\n",
    "    base = 5\n",
    "    height = 4\n",
    "    def calculate_area_tri(self):\n",
    "        return 0.5 * self.base * self.height\n",
    "\n",
    "sq = Square()\n",
    "tri = Triangle()\n",
    "print(\"Area of square: \", sq.calculate_area_sq())\n",
    "print(\"Area of triangle: \", tri.calculate_area_tri())"
   ]
  },
  {
   "cell_type": "code",
   "execution_count": null,
   "metadata": {},
   "outputs": [],
   "source": []
  },
  {
   "cell_type": "markdown",
   "metadata": {},
   "source": [
    "## Polymorphism with Class Methods"
   ]
  },
  {
   "cell_type": "code",
   "execution_count": 3,
   "metadata": {
    "ExecuteTime": {
     "end_time": "2021-01-22T13:18:50.576854Z",
     "start_time": "2021-01-22T13:18:50.564202Z"
    }
   },
   "outputs": [
    {
     "name": "stdout",
     "output_type": "stream",
     "text": [
      "Area of square:  25\n",
      "Area of triangle:  10.0\n"
     ]
    }
   ],
   "source": [
    "class Square:\n",
    "    side = 5     \n",
    "    def calculate_area(self):\n",
    "        return self.side * self.side\n",
    "\n",
    "class Triangle:\n",
    "    base = 5\n",
    "    height = 4\n",
    "    def calculate_area(self):\n",
    "        return 0.5 * self.base * self.height\n",
    "\n",
    "sq = Square()\n",
    "tri = Triangle()\n",
    "print(\"Area of square: \", sq.calculate_area())\n",
    "print(\"Area of triangle: \", tri.calculate_area())"
   ]
  },
  {
   "cell_type": "code",
   "execution_count": null,
   "metadata": {},
   "outputs": [],
   "source": []
  },
  {
   "cell_type": "code",
   "execution_count": null,
   "metadata": {},
   "outputs": [],
   "source": []
  },
  {
   "cell_type": "code",
   "execution_count": 13,
   "metadata": {
    "ExecuteTime": {
     "end_time": "2021-01-22T13:20:51.938064Z",
     "start_time": "2021-01-22T13:20:51.923681Z"
    }
   },
   "outputs": [
    {
     "name": "stdout",
     "output_type": "stream",
     "text": [
      "25\n",
      "10.0\n"
     ]
    }
   ],
   "source": [
    "sq = Square()\n",
    "tri = Triangle()\n",
    "\n",
    "for obj in (sq, tri):\n",
    "    print(obj.calculate_area())"
   ]
  },
  {
   "cell_type": "code",
   "execution_count": null,
   "metadata": {},
   "outputs": [],
   "source": []
  },
  {
   "cell_type": "code",
   "execution_count": 27,
   "metadata": {
    "ExecuteTime": {
     "end_time": "2021-01-22T14:18:21.949763Z",
     "start_time": "2021-01-22T14:18:21.931824Z"
    }
   },
   "outputs": [
    {
     "name": "stdout",
     "output_type": "stream",
     "text": [
      "Kitty\n",
      "Meow\n",
      "I am a cat. My name is Kitty. I am 2.5 years old.\n",
      "Meow\n",
      "\n",
      "\n",
      "Fluffy\n",
      "Bark\n",
      "I am a dog. My name is Fluffy. I am 4 years old.\n",
      "Bark\n",
      "\n",
      "\n"
     ]
    }
   ],
   "source": [
    "class Cat:\n",
    "    def __init__(self, name, age):\n",
    "        self.name = name\n",
    "        self.age = age\n",
    "\n",
    "    def info(self):\n",
    "        print(f\"I am a cat. My name is {self.name}. I am {self.age} years old.\")\n",
    "\n",
    "    def make_sound(self):\n",
    "        print(\"Meow\")\n",
    "\n",
    "\n",
    "class Dog:\n",
    "    def __init__(self, name, age):\n",
    "        self.name = name\n",
    "        self.age = age\n",
    "\n",
    "    def info(self):\n",
    "        print(f\"I am a dog. My name is {self.name}. I am {self.age} years old.\")\n",
    "\n",
    "    def make_sound(self):\n",
    "        print(\"Bark\")\n",
    "\n",
    "\n",
    "cat1 = Cat(\"Kitty\", 2.5)\n",
    "dog1 = Dog(\"Fluffy\", 4)\n",
    "\n",
    "for animal in (cat1, dog1):\n",
    "    print(animal.name)\n",
    "    animal.make_sound()\n",
    "    animal.info()\n",
    "    animal.make_sound()\n",
    "    print(\"\\n\")\n",
    "    "
   ]
  },
  {
   "cell_type": "code",
   "execution_count": null,
   "metadata": {},
   "outputs": [],
   "source": []
  },
  {
   "cell_type": "markdown",
   "metadata": {},
   "source": [
    "## Polymorphism with functions and Objects"
   ]
  },
  {
   "cell_type": "code",
   "execution_count": 19,
   "metadata": {
    "ExecuteTime": {
     "end_time": "2021-01-22T13:21:52.213812Z",
     "start_time": "2021-01-22T13:21:52.195789Z"
    }
   },
   "outputs": [
    {
     "name": "stdout",
     "output_type": "stream",
     "text": [
      "25\n",
      "10.0\n"
     ]
    }
   ],
   "source": [
    "def find_area_of_shape(obj) :\n",
    "    print(obj.calculate_area())\n",
    "\n",
    "sq = Square()\n",
    "tri = Triangle()\n",
    "\n",
    "# calling the method with different objects\n",
    "find_area_of_shape(sq)\n",
    "find_area_of_shape(tri)"
   ]
  },
  {
   "cell_type": "code",
   "execution_count": null,
   "metadata": {},
   "outputs": [],
   "source": []
  },
  {
   "cell_type": "markdown",
   "metadata": {},
   "source": [
    "## Polymorphism with Inhertitance"
   ]
  },
  {
   "cell_type": "code",
   "execution_count": 21,
   "metadata": {
    "ExecuteTime": {
     "end_time": "2021-01-22T13:26:04.378943Z",
     "start_time": "2021-01-22T13:26:04.356615Z"
    }
   },
   "outputs": [
    {
     "name": "stdout",
     "output_type": "stream",
     "text": [
      "There are different types of birds\n",
      "Most of the birds can fly but some cannot\n",
      "There are different types of birds\n",
      "Parrots can fly\n",
      "There are different types of birds\n",
      "Penguins do not fly\n"
     ]
    }
   ],
   "source": [
    "class Bird:\n",
    "     def intro(self):\n",
    "        print(\"There are different types of birds\")\n",
    " \n",
    "     def flight(self):\n",
    "        print(\"Most of the birds can fly but some cannot\")\n",
    " \n",
    "class parrot(Bird):\n",
    "     def flight(self):\n",
    "        print(\"Parrots can fly\")\n",
    " \n",
    "class penguin(Bird):\n",
    "     def flight(self):\n",
    "        print(\"Penguins do not fly\")\n",
    " \n",
    "obj_bird = Bird()\n",
    "obj_parr = parrot()\n",
    "obj_peng = penguin()\n",
    " \n",
    "obj_bird.intro()\n",
    "obj_bird.flight()\n",
    " \n",
    "obj_parr.intro()\n",
    "obj_parr.flight()\n",
    " \n",
    "obj_peng.intro()\n",
    "obj_peng.flight()"
   ]
  },
  {
   "cell_type": "code",
   "execution_count": null,
   "metadata": {},
   "outputs": [],
   "source": []
  }
 ],
 "metadata": {
  "hide_input": false,
  "kernelspec": {
   "display_name": "el-dorado",
   "language": "python",
   "name": "el-dorado"
  },
  "language_info": {
   "codemirror_mode": {
    "name": "ipython",
    "version": 3
   },
   "file_extension": ".py",
   "mimetype": "text/x-python",
   "name": "python",
   "nbconvert_exporter": "python",
   "pygments_lexer": "ipython3",
   "version": "3.8.5"
  },
  "toc": {
   "base_numbering": 1,
   "nav_menu": {},
   "number_sections": true,
   "sideBar": true,
   "skip_h1_title": false,
   "title_cell": "Table of Contents",
   "title_sidebar": "Contents",
   "toc_cell": false,
   "toc_position": {},
   "toc_section_display": true,
   "toc_window_display": false
  },
  "varInspector": {
   "cols": {
    "lenName": 16,
    "lenType": 16,
    "lenVar": 40
   },
   "kernels_config": {
    "python": {
     "delete_cmd_postfix": "",
     "delete_cmd_prefix": "del ",
     "library": "var_list.py",
     "varRefreshCmd": "print(var_dic_list())"
    },
    "r": {
     "delete_cmd_postfix": ") ",
     "delete_cmd_prefix": "rm(",
     "library": "var_list.r",
     "varRefreshCmd": "cat(var_dic_list()) "
    }
   },
   "types_to_exclude": [
    "module",
    "function",
    "builtin_function_or_method",
    "instance",
    "_Feature"
   ],
   "window_display": false
  }
 },
 "nbformat": 4,
 "nbformat_minor": 4
}
