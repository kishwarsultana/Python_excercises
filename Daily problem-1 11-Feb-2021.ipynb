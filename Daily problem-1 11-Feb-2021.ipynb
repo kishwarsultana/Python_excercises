{
 "cells": [
  {
   "cell_type": "markdown",
   "metadata": {},
   "source": [
    "##  Write a Program  that accepts a sequence of white space seperated words as input and prints the words removing all duplicate words and sorting them alphanumerically?"
   ]
  },
  {
   "cell_type": "markdown",
   "metadata": {},
   "source": [
    "## Input : 'Hello World and practice makes man perfect and hello world again'\n",
    "## expected output : again and hello makes perfect practice world"
   ]
  },
  {
   "cell_type": "code",
   "execution_count": 30,
   "metadata": {},
   "outputs": [
    {
     "name": "stdout",
     "output_type": "stream",
     "text": [
      "Hello World and practice makes man perfect and hello world again\n",
      "['hello', 'world', 'and', 'practice', 'makes', 'man', 'perfect', 'and', 'hello', 'world', 'again']\n",
      "again and hello makes man perfect practice world\n"
     ]
    }
   ],
   "source": [
    "s = input()\n",
    "words = [word.lower() for word in s.split(\" \")]\n",
    "print(words)\n",
    "print (\" \".join(sorted(list(set(words)))))\n"
   ]
  },
  {
   "cell_type": "code",
   "execution_count": 7,
   "metadata": {},
   "outputs": [
    {
     "name": "stdout",
     "output_type": "stream",
     "text": [
      "Enterpen and pencil \n",
      "['pen', 'and', 'pencil', '']\n"
     ]
    }
   ],
   "source": [
    "s = input(\"Enter\")\n",
    "print(s.split(\" \"))"
   ]
  },
  {
   "cell_type": "code",
   "execution_count": 14,
   "metadata": {},
   "outputs": [
    {
     "name": "stdout",
     "output_type": "stream",
     "text": [
      "temporary sorting [-1, 2, 3, 4, 5, 22]\n",
      "original list [3, 4, 5, 2, 22, -1]\n",
      "new list[22, 5, 4, 3, 2, -1]\n"
     ]
    }
   ],
   "source": [
    "s = [3,4,5,2,22,-1]\n",
    "print(f\"temporary sorting {sorted(s)}\")\n",
    "print(f\"original list {s}\")\n",
    "s.sort(reverse = True)\n",
    "print(f\"new list{s}\")"
   ]
  },
  {
   "cell_type": "code",
   "execution_count": null,
   "metadata": {},
   "outputs": [],
   "source": []
  }
 ],
 "metadata": {
  "kernelspec": {
   "display_name": "Python 3",
   "language": "python",
   "name": "python3"
  },
  "language_info": {
   "codemirror_mode": {
    "name": "ipython",
    "version": 3
   },
   "file_extension": ".py",
   "mimetype": "text/x-python",
   "name": "python",
   "nbconvert_exporter": "python",
   "pygments_lexer": "ipython3",
   "version": "3.8.5"
  }
 },
 "nbformat": 4,
 "nbformat_minor": 4
}
