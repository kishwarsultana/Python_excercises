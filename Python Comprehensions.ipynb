{
 "cells": [
  {
   "cell_type": "markdown",
   "metadata": {},
   "source": [
    "## Program for Even Numbers using List Comprehension"
   ]
  },
  {
   "cell_type": "code",
   "execution_count": 48,
   "metadata": {
    "ExecuteTime": {
     "end_time": "2021-01-19T14:11:05.994631Z",
     "start_time": "2021-01-19T14:11:03.220305Z"
    }
   },
   "outputs": [
    {
     "name": "stdout",
     "output_type": "stream",
     "text": [
      "Enter the Number : 23\n",
      "Even Numbers : [2, 4, 6, 8, 10, 12, 14, 16, 18, 20, 22]\n",
      "Odd Numbers : [1, 3, 5, 7, 9, 11, 13, 15, 17, 19, 21, 23] \n"
     ]
    }
   ],
   "source": [
    "num = int(input('Enter the Number : '))\n",
    "list_even = [i for i in range(1,num+1) if i % 2 == 0]\n",
    "list_odd = [i for i in range(1,num+1) if i % 2 != 0]\n",
    "print(f'Even Numbers : {list_even}')\n",
    "print(f'Odd Numbers : {list_odd} ')"
   ]
  },
  {
   "cell_type": "code",
   "execution_count": 50,
   "metadata": {
    "ExecuteTime": {
     "end_time": "2021-01-19T14:14:29.230362Z",
     "start_time": "2021-01-19T14:14:27.705185Z"
    }
   },
   "outputs": [
    {
     "name": "stdout",
     "output_type": "stream",
     "text": [
      "Enter the Number : 25\n",
      "['Odd', 'Even', 'Odd', 'Even', 'Odd', 'Even', 'Odd', 'Even', 'Odd', 'Even', 'Odd', 'Even', 'Odd', 'Even', 'Odd', 'Even', 'Odd', 'Even', 'Odd', 'Even', 'Odd', 'Even', 'Odd', 'Even', 'Odd']\n"
     ]
    }
   ],
   "source": [
    "num = int(input('Enter the Number : '))\n",
    "list_1 = ['Even' if i % 2 == 0 else 'Odd' for i in range(1,num+1)]\n",
    "print(list_1)"
   ]
  },
  {
   "cell_type": "code",
   "execution_count": null,
   "metadata": {},
   "outputs": [],
   "source": []
  },
  {
   "cell_type": "markdown",
   "metadata": {
    "ExecuteTime": {
     "end_time": "2021-01-19T14:15:29.503671Z",
     "start_time": "2021-01-19T14:15:29.500279Z"
    }
   },
   "source": [
    "## Program to demonstrate Dictionary Comprehension"
   ]
  },
  {
   "cell_type": "code",
   "execution_count": 60,
   "metadata": {
    "ExecuteTime": {
     "end_time": "2021-01-19T14:20:54.622415Z",
     "start_time": "2021-01-19T14:20:47.881063Z"
    }
   },
   "outputs": [
    {
     "name": "stdout",
     "output_type": "stream",
     "text": [
      "Enter the Number : 45689\n"
     ]
    }
   ],
   "source": [
    "num = int(input('Enter the Number : '))\n",
    "dict_all = {i : 'Even' for i in range(1,num+1) if i % 2 == 0}\n",
    "dict_odd = {i : \"Odd\" for i in range(1,num+1) if i % 2 != 0}\n",
    "dict_all.update(dict_odd)\n",
    "#Using Python 3.9\n",
    "#res_dict = dict_even | dict_odd     merging two dictionaries"
   ]
  },
  {
   "cell_type": "code",
   "execution_count": 61,
   "metadata": {
    "ExecuteTime": {
     "end_time": "2021-01-19T14:21:00.311091Z",
     "start_time": "2021-01-19T14:21:00.300930Z"
    }
   },
   "outputs": [
    {
     "data": {
      "text/plain": [
       "'Odd'"
      ]
     },
     "execution_count": 61,
     "metadata": {},
     "output_type": "execute_result"
    }
   ],
   "source": [
    "dict_all[2303]"
   ]
  },
  {
   "cell_type": "code",
   "execution_count": 62,
   "metadata": {
    "ExecuteTime": {
     "end_time": "2021-01-19T14:23:32.210648Z",
     "start_time": "2021-01-19T14:23:27.677357Z"
    }
   },
   "outputs": [
    {
     "name": "stdout",
     "output_type": "stream",
     "text": [
      "Enter the number : 785946\n"
     ]
    }
   ],
   "source": [
    "num = int(input('Enter the number : '))\n",
    "cubes = {i : i ** 3 for i in range(1,num+1)}"
   ]
  },
  {
   "cell_type": "code",
   "execution_count": 63,
   "metadata": {
    "ExecuteTime": {
     "end_time": "2021-01-19T14:23:49.488813Z",
     "start_time": "2021-01-19T14:23:49.480625Z"
    }
   },
   "outputs": [
    {
     "data": {
      "text/plain": [
       "94943632328"
      ]
     },
     "execution_count": 63,
     "metadata": {},
     "output_type": "execute_result"
    }
   ],
   "source": [
    "cubes[4562]"
   ]
  },
  {
   "cell_type": "code",
   "execution_count": null,
   "metadata": {},
   "outputs": [],
   "source": []
  },
  {
   "cell_type": "code",
   "execution_count": 65,
   "metadata": {
    "ExecuteTime": {
     "end_time": "2021-01-19T14:27:41.291643Z",
     "start_time": "2021-01-19T14:27:41.241635Z"
    }
   },
   "outputs": [],
   "source": [
    "state = ['Telangana','Madhya Pradesh','Tamilnadu']\n",
    "capital = ['Hyderabad','Bhopal','Chennai'] \n",
    "dict_comp = {k :v for (k,v) in zip(state,capital)}"
   ]
  },
  {
   "cell_type": "code",
   "execution_count": 67,
   "metadata": {
    "ExecuteTime": {
     "end_time": "2021-01-19T14:28:10.987651Z",
     "start_time": "2021-01-19T14:28:10.980606Z"
    }
   },
   "outputs": [
    {
     "data": {
      "text/plain": [
       "'Hyderabad'"
      ]
     },
     "execution_count": 67,
     "metadata": {},
     "output_type": "execute_result"
    }
   ],
   "source": [
    "dict_comp['Telangana']"
   ]
  },
  {
   "cell_type": "code",
   "execution_count": null,
   "metadata": {},
   "outputs": [],
   "source": []
  },
  {
   "cell_type": "code",
   "execution_count": 70,
   "metadata": {
    "ExecuteTime": {
     "end_time": "2021-01-19T14:44:39.211512Z",
     "start_time": "2021-01-19T14:44:39.149585Z"
    }
   },
   "outputs": [
    {
     "name": "stdout",
     "output_type": "stream",
     "text": [
      "Output Set : <generator object <genexpr> at 0x000001F518D8FF20>\n"
     ]
    }
   ],
   "source": [
    "input_value = [1,2,2,2,3,3,3,4,4,4]\n",
    "set_comp = (var for var in input_value if var % 2 == 0)\n",
    "print(f\"Output Set : {set_comp}\")"
   ]
  },
  {
   "cell_type": "code",
   "execution_count": null,
   "metadata": {},
   "outputs": [],
   "source": []
  }
 ],
 "metadata": {
  "hide_input": false,
  "kernelspec": {
   "display_name": "el-dorado",
   "language": "python",
   "name": "el-dorado"
  },
  "language_info": {
   "codemirror_mode": {
    "name": "ipython",
    "version": 3
   },
   "file_extension": ".py",
   "mimetype": "text/x-python",
   "name": "python",
   "nbconvert_exporter": "python",
   "pygments_lexer": "ipython3",
   "version": "3.8.5"
  },
  "toc": {
   "base_numbering": 1,
   "nav_menu": {},
   "number_sections": true,
   "sideBar": true,
   "skip_h1_title": false,
   "title_cell": "Table of Contents",
   "title_sidebar": "Contents",
   "toc_cell": false,
   "toc_position": {},
   "toc_section_display": true,
   "toc_window_display": false
  },
  "varInspector": {
   "cols": {
    "lenName": 16,
    "lenType": 16,
    "lenVar": 40
   },
   "kernels_config": {
    "python": {
     "delete_cmd_postfix": "",
     "delete_cmd_prefix": "del ",
     "library": "var_list.py",
     "varRefreshCmd": "print(var_dic_list())"
    },
    "r": {
     "delete_cmd_postfix": ") ",
     "delete_cmd_prefix": "rm(",
     "library": "var_list.r",
     "varRefreshCmd": "cat(var_dic_list()) "
    }
   },
   "types_to_exclude": [
    "module",
    "function",
    "builtin_function_or_method",
    "instance",
    "_Feature"
   ],
   "window_display": false
  }
 },
 "nbformat": 4,
 "nbformat_minor": 4
}
